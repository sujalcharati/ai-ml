{
 "cells": [
  {
   "cell_type": "code",
   "execution_count": 1,
   "id": "9ced7d41",
   "metadata": {},
   "outputs": [
    {
     "name": "stdout",
     "output_type": "stream",
     "text": [
      "[[0 0 0 ... 0 0 0]\n",
      " [0 0 0 ... 0 0 0]\n",
      " [0 0 0 ... 0 0 0]\n",
      " ...\n",
      " [0 0 0 ... 0 0 0]\n",
      " [0 0 0 ... 0 0 0]\n",
      " [0 0 0 ... 0 0 0]]\n",
      "['5' '0' '4' ... '4' '5' '6']\n"
     ]
    },
    {
     "data": {
      "text/plain": [
       "(70000,)"
      ]
     },
     "execution_count": 1,
     "metadata": {},
     "output_type": "execute_result"
    }
   ],
   "source": [
    "from sklearn.datasets import fetch_openml\n",
    "import pandas as pd\n",
    "mnist = fetch_openml('mnist_784',as_frame=False)\n",
    "\n",
    "x,y = mnist.data , mnist.target\n",
    "print(x)\n",
    "print(y)\n",
    "\n",
    "x.shape\n",
    "y.shape"
   ]
  },
  {
   "cell_type": "code",
   "execution_count": 2,
   "id": "9ab7efc5",
   "metadata": {},
   "outputs": [
    {
     "data": {
      "image/png": "[encoded data removed]",
      "text/plain": [
       "<Figure size 640x480 with 1 Axes>"
      ]
     },
     "metadata": {},
     "output_type": "display_data"
    },
    {
     "name": "stdout",
     "output_type": "stream",
     "text": [
      "5\n"
     ]
    }
   ],
   "source": [
    "import matplotlib.pyplot as plt\n",
    "\n",
    "def plot_digit(image_data):\n",
    "    image = image_data.reshape(28,28) # from 1d array to 2d array ..\n",
    "    plt.imshow(image, cmap='binary') # using color with 2 only white and black \n",
    "    plt.axis(\"off\") # showing grid axis \n",
    "some_digit = x[0]\n",
    "plot_digit(some_digit)\n",
    "plt.show()\n",
    "print(y[0])\n"
   ]
  },
  {
   "cell_type": "code",
   "execution_count": 3,
   "id": "adfb666a",
   "metadata": {},
   "outputs": [
    {
     "name": "stdout",
     "output_type": "stream",
     "text": [
      "[[0 0 0 ... 0 0 0]\n",
      " [0 0 0 ... 0 0 0]\n",
      " [0 0 0 ... 0 0 0]\n",
      " ...\n",
      " [0 0 0 ... 0 0 0]\n",
      " [0 0 0 ... 0 0 0]\n",
      " [0 0 0 ... 0 0 0]]\n",
      "[[0 0 0 ... 0 0 0]\n",
      " [0 0 0 ... 0 0 0]\n",
      " [0 0 0 ... 0 0 0]\n",
      " ...\n",
      " [0 0 0 ... 0 0 0]\n",
      " [0 0 0 ... 0 0 0]\n",
      " [0 0 0 ... 0 0 0]]\n",
      "int64 0 255\n"
     ]
    }
   ],
   "source": [
    "x_train,x_test= x[:60000],x[60000:]\n",
    "print(x_train)\n",
    "print(x_test)\n",
    "print(x.dtype, x.min(), x.max())\n"
   ]
  },
  {
   "cell_type": "code",
   "execution_count": 4,
   "id": "58f48d6c",
   "metadata": {},
   "outputs": [
    {
     "name": "stdout",
     "output_type": "stream",
     "text": [
      "[ True False False ...  True False False]\n"
     ]
    }
   ],
   "source": [
    "y_train, y_test = y[:60000], y[60000:]\n",
    "ytrain_5 = (y_train == '5')\n",
    "ytest_5 = (y_test == '5')\n",
    "print(ytrain_5)"
   ]
  },
  {
   "cell_type": "code",
   "execution_count": 5,
   "id": "9b221763",
   "metadata": {},
   "outputs": [
    {
     "data": {
      "text/plain": [
       "array([ True])"
      ]
     },
     "execution_count": 5,
     "metadata": {},
     "output_type": "execute_result"
    }
   ],
   "source": [
    "from sklearn.linear_model import SGDClassifier\n",
    "\n",
    "sgd_clf = SGDClassifier(random_state=42)\n",
    "sgd_clf.fit(x_train,ytrain_5)\n",
    "sgd_clf.predict([some_digit])\n",
    "\n"
   ]
  },
  {
   "cell_type": "code",
   "execution_count": 6,
   "id": "6d182ba7",
   "metadata": {},
   "outputs": [
    {
     "data": {
      "text/plain": [
       "array([0.95035, 0.96035, 0.9604 ])"
      ]
     },
     "execution_count": 6,
     "metadata": {},
     "output_type": "execute_result"
    }
   ],
   "source": [
    "# measuring accuracy using cross-validation\n",
    "\n",
    "from sklearn.model_selection import cross_val_score\n",
    "\n",
    "cross_val_score(sgd_clf,x_train,ytrain_5,cv=3,scoring=\"accuracy\")"
   ]
  },
  {
   "cell_type": "code",
   "execution_count": 7,
   "id": "4d2067ef",
   "metadata": {},
   "outputs": [
    {
     "name": "stdout",
     "output_type": "stream",
     "text": [
      "False\n"
     ]
    },
    {
     "data": {
      "text/plain": [
       "array([0.90965, 0.90965, 0.90965])"
      ]
     },
     "execution_count": 7,
     "metadata": {},
     "output_type": "execute_result"
    }
   ],
   "source": [
    "# using dummy classifier for accuracy\n",
    "\n",
    "from sklearn.dummy import DummyClassifier\n",
    "\n",
    "dummy_clf = DummyClassifier()\n",
    "dummy_clf.fit(x_train,ytrain_5)\n",
    "print(any(dummy_clf.predict(x_train)))\n",
    "\n",
    "cross_val_score(dummy_clf,x_train,ytrain_5,cv=3,scoring=\"accuracy\")"
   ]
  },
  {
   "cell_type": "code",
   "execution_count": 8,
   "id": "664c8d90",
   "metadata": {},
   "outputs": [],
   "source": [
    "# This demonstrates why accuracy is generally not the preferred performance measure\n",
    "#for classifiers, especially when you are dealing with skewed datasets (i.e., when some classes are more frequent than others..\n",
    "#A much better way to evaluate the performance of a classifier is to look at the confusion matrix (CM)"
   ]
  },
  {
   "cell_type": "code",
   "execution_count": 9,
   "id": "ca1240c7",
   "metadata": {},
   "outputs": [],
   "source": [
    "# implementation of cross-validation"
   ]
  },
  {
   "cell_type": "code",
   "execution_count": 10,
   "id": "4eef6829",
   "metadata": {},
   "outputs": [
    {
     "name": "stdout",
     "output_type": "stream",
     "text": [
      "[ True False False ...  True False False]\n"
     ]
    }
   ],
   "source": [
    "# confusion matrix\n",
    "\n",
    "from sklearn.model_selection import cross_val_predict\n",
    "\n",
    "y_train_predict = cross_val_predict(sgd_clf, x_train, ytrain_5, cv=3)\n",
    "print(y_train_predict)\n",
    "\n"
   ]
  },
  {
   "cell_type": "code",
   "execution_count": 11,
   "id": "0c067a79",
   "metadata": {},
   "outputs": [
    {
     "name": "stdout",
     "output_type": "stream",
     "text": [
      "[[53892   687]\n",
      " [ 1891  3530]]\n",
      "\n",
      "Confusion matrix layout:\n",
      "[[True Negatives (TN), False Positives (FP)]\n",
      " [False Negatives (FN), True Positives (TP)]]\n",
      "\n",
      "In your result:\n",
      "TN = 53892\n",
      "FP = 687\n",
      "FN = 1891\n",
      "TP = 3530\n"
     ]
    }
   ],
   "source": [
    "from sklearn.metrics import confusion_matrix\n",
    "\n",
    "cm = confusion_matrix(ytrain_5,y_train_predict)\n",
    "print(cm)\n",
    "print(\"\\nConfusion matrix layout:\")\n",
    "print(\"[[True Negatives (TN), False Positives (FP)]\")\n",
    "print(\" [False Negatives (FN), True Positives (TP)]]\")\n",
    "print(f\"\\nIn your result:\\nTN = {cm[0,0]}\\nFP = {cm[0,1]}\\nFN = {cm[1,0]}\\nTP = {cm[1,1]}\")"
   ]
  },
  {
   "cell_type": "code",
   "execution_count": 12,
   "id": "f8fc3d05",
   "metadata": {},
   "outputs": [
    {
     "name": "stdout",
     "output_type": "stream",
     "text": [
      "[[54579     0]\n",
      " [    0  5421]]\n"
     ]
    }
   ],
   "source": [
    "# assume we have predicted everything correctly\n",
    "\n",
    "y_predicted_all = ytrain_5\n",
    "\n",
    "cm1 = confusion_matrix(y_predicted_all,ytrain_5)\n",
    "print(cm1)"
   ]
  },
  {
   "cell_type": "code",
   "execution_count": 13,
   "id": "c1ea7e1b",
   "metadata": {},
   "outputs": [
    {
     "name": "stdout",
     "output_type": "stream",
     "text": [
      "0.8370879772350012\n",
      "0.6511713705958311\n"
     ]
    }
   ],
   "source": [
    "# An interesting one to look at is the accuracy of the positive \n",
    "# predictions; this is called the precision of the classifier\n",
    "\n",
    "from sklearn.metrics import precision_score,recall_score\n",
    "\n",
    "ps = precision_score(ytrain_5,y_train_predict)\n",
    "rs = recall_score(ytrain_5,y_train_predict)\n",
    "\n",
    "print(ps) # when your model predicts “5”, it’s right 84% of the time.\n",
    "print(rs) # your model only finds 65% of all 5s; it misses 35%."
   ]
  },
  {
   "cell_type": "code",
   "execution_count": 14,
   "id": "b7c0a3c4",
   "metadata": {},
   "outputs": [
    {
     "name": "stdout",
     "output_type": "stream",
     "text": [
      "0.7325171197343847\n"
     ]
    }
   ],
   "source": [
    "#f1-score \n",
    "\n",
    "from sklearn.metrics import f1_score\n",
    "\n",
    "f1 = f1_score(ytrain_5,y_train_predict) # balances between them ...\n",
    "print(f1)"
   ]
  },
  {
   "cell_type": "code",
   "execution_count": 15,
   "id": "6cf8374f",
   "metadata": {},
   "outputs": [],
   "source": [
    "# # precision / recall trade off\n",
    "\n",
    "# Your classifier doesn’t just spit out “yes/no” labels.\n",
    "# Internally, it usually gives a score/probability (e.g., logistic regression gives P(y=1|x)).\n",
    "\n",
    "# Then you apply a threshold (commonly 0.5).\n",
    "\n",
    "# If score ≥ threshold → predict Positive, else Negative.\n",
    "\n",
    "# Now:\n",
    "\n",
    "# If you lower the threshold →\n",
    "\n",
    "# You say “positive” more often.\n",
    "\n",
    "# ✅ Recall goes up (you catch more real positives).\n",
    "\n",
    "# ❌ Precision goes down (more false alarms).\n",
    "\n",
    "# If you raise the threshold →\n",
    "\n",
    "# You say “positive” less often.\n",
    "\n",
    "# ✅ Precision goes up (fewer false positives).\n",
    "\n",
    "# ❌ Recall goes down (you miss many positives).\n",
    "\n"
   ]
  },
  {
   "cell_type": "code",
   "execution_count": 16,
   "id": "e202d95d",
   "metadata": {},
   "outputs": [
    {
     "name": "stdout",
     "output_type": "stream",
     "text": [
      "[2164.22030239]\n",
      "[ True]\n",
      "[False]\n"
     ]
    }
   ],
   "source": [
    "y_score = sgd_clf.decision_function([some_digit])\n",
    "print(y_score)\n",
    "\n",
    "threshold = 0\n",
    "y_some_digit_pred = (threshold < y_score)\n",
    "print(y_some_digit_pred)\n",
    "\n",
    "\n",
    "threshold1 = 3000\n",
    "y_some_digit_pred1 = (threshold1 < y_score)\n",
    "print(y_some_digit_pred1)"
   ]
  },
  {
   "cell_type": "code",
   "execution_count": 17,
   "id": "42405cb2",
   "metadata": {},
   "outputs": [
    {
     "name": "stdout",
     "output_type": "stream",
     "text": [
      "[2164.22030239]\n"
     ]
    }
   ],
   "source": [
    "y_scores = cross_val_predict(sgd_clf,x_train,ytrain_5,cv=3,method=\"decision_function\")\n",
    "print(y_score)"
   ]
  },
  {
   "cell_type": "code",
   "execution_count": 18,
   "id": "dbd37563",
   "metadata": {},
   "outputs": [
    {
     "name": "stdout",
     "output_type": "stream",
     "text": [
      "[0.09035    0.09035151 0.09035301 ... 1.         1.         1.        ]\n",
      "[1.00000000e+00 1.00000000e+00 1.00000000e+00 ... 3.68935621e-04\n",
      " 1.84467810e-04 0.00000000e+00]\n",
      "0\n"
     ]
    }
   ],
   "source": [
    "from sklearn.metrics import precision_recall_curve\n",
    "\n",
    "precisions, recalls,thresholds = precision_recall_curve(ytrain_5,y_scores)\n",
    "print(precisions)\n",
    "print(recalls)\n",
    "print(threshold)"
   ]
  },
  {
   "cell_type": "code",
   "execution_count": 24,
   "id": "318863e6",
   "metadata": {},
   "outputs": [
    {
     "data": {
      "image/png": "[encoded data removed]",
      "text/plain": [
       "<Figure size 640x480 with 1 Axes>"
      ]
     },
     "metadata": {},
     "output_type": "display_data"
    }
   ],
   "source": [
    "plt.plot(thresholds, precisions[:-1], \"b--\", label=\"Precision\", linewidth=2)\n",
    "plt.plot(thresholds, recalls[:-1], \"g-\", label=\"Recall\", linewidth=2)\n",
    "plt.vlines(threshold, 0, 1.0, \"k\", \"dotted\", label=\"threshold\")\n",
    "plt.xlabel(\"Recal\")\n",
    "plt.ylabel(\"precision\")\n",
    "plt.title(\"precision-Recall curve\")\n",
    "plt.legend()\n",
    "plt.grid(True)\n",
    "plt.show()"
   ]
  },
  {
   "cell_type": "code",
   "execution_count": 21,
   "id": "86d0fcc3",
   "metadata": {},
   "outputs": [
    {
     "data": {
      "image/png": "[encoded data removed]",
      "text/plain": [
       "<Figure size 640x480 with 1 Axes>"
      ]
     },
     "metadata": {},
     "output_type": "display_data"
    }
   ],
   "source": [
    "plt.plot(recalls, precisions, linewidth=2, label=\"Precision/Recall curve\")\n",
    "plt.xlabel(\"Recall\")\n",
    "plt.ylabel(\"Precision\")\n",
    "plt.title(\"Precision-Recall Curve\")\n",
    "plt.grid(True)\n",
    "plt.legend()\n",
    "plt.annotate(\n",
    "    \"Ideal\", \n",
    "    xy=(1, 1), \n",
    "    xytext=(0.8, 0.95),\n",
    "    arrowprops=dict(facecolor='black', shrink=0.05),\n",
    "    fontsize=10,\n",
    "    bbox=dict(boxstyle=\"round,pad=0.3\", edgecolor=\"gray\", facecolor=\"white\")\n",
    ")\n",
    "plt.show()"
   ]
  },
  {
   "cell_type": "code",
   "execution_count": null,
   "id": "d288c178",
   "metadata": {},
   "outputs": [
    {
     "name": "stdout",
     "output_type": "stream",
     "text": [
      "3370.0194991439557\n"
     ]
    }
   ],
   "source": [
    "# use the first such index where you can choose max precision \n",
    "\n",
    "idx_for_90_precision = ( precisions >= 0.90).argmax()\n",
    "th_90_prec = thresholds[idx_for_90_precision]\n",
    "print(th_90_prec)\n"
   ]
  },
  {
   "cell_type": "code",
   "execution_count": 28,
   "id": "ab4f0c30",
   "metadata": {},
   "outputs": [
    {
     "name": "stdout",
     "output_type": "stream",
     "text": [
      "0.9000345901072293\n",
      "0.4799852425751706\n"
     ]
    }
   ],
   "source": [
    "# now do predict for it \n",
    "\n",
    "y_train_90_pred = (y_scores >= th_90_prec)\n",
    "\n",
    "p = precision_score(ytrain_5,y_train_90_pred)\n",
    "print(p)\n",
    "r = recall_score(ytrain_5,y_train_90_pred)\n",
    "print(r)"
   ]
  },
  {
   "cell_type": "code",
   "execution_count": 29,
   "id": "17b49a63",
   "metadata": {},
   "outputs": [],
   "source": [
    "# ROC curve \n",
    "\n",
    "from sklearn.metrics import roc_curve\n",
    "\n",
    "fpr ,tpr,thresholds =roc_curve(ytrain_5,y_scores)\n"
   ]
  },
  {
   "cell_type": "code",
   "execution_count": 32,
   "id": "97600f15",
   "metadata": {},
   "outputs": [
    {
     "data": {
      "image/png": "[encoded data removed]",
      "text/plain": [
       "<Figure size 640x480 with 1 Axes>"
      ]
     },
     "metadata": {},
     "output_type": "display_data"
    }
   ],
   "source": [
    "idx_for_th_90 = (threshold <= th_90_prec).argmax()\n",
    "tpr_90, fpr_90 = tpr[idx_for_th_90], fpr[idx_for_th_90]\n",
    "\n",
    "plt.plot(fpr, tpr, linewidth=2, label=\"ROC curve\")\n",
    "plt.plot([0, 1], [0, 1], 'k:', label=\"Random classifier's ROC curve\")\n",
    "plt.plot([fpr_90], [tpr_90], \"ko\", label=\"Threshold for 90% precision\")\n",
    "plt.xlabel(\"FPR\")\n",
    "plt.ylabel(\"TPR\")\n",
    "plt.legend()\n",
    "plt.axis(True)\n",
    "plt.show()"
   ]
  },
  {
   "cell_type": "code",
   "execution_count": 33,
   "id": "315b4602",
   "metadata": {},
   "outputs": [
    {
     "name": "stdout",
     "output_type": "stream",
     "text": [
      "0.9604938554008616\n"
     ]
    }
   ],
   "source": [
    "from sklearn.metrics import roc_auc_score\n",
    "\n",
    "score = roc_auc_score(ytrain_5,y_scores)\n",
    "print(score)"
   ]
  },
  {
   "cell_type": "code",
   "execution_count": 35,
   "id": "65e6d5b2",
   "metadata": {},
   "outputs": [
    {
     "name": "stdout",
     "output_type": "stream",
     "text": [
      "RandomForestClassifier(random_state=42)\n"
     ]
    }
   ],
   "source": [
    "# Let’s now create a RandomForestClassifier, whose PR curve and F1 score we can\n",
    "# compare to those of the SGDClassifier:\n",
    "\n",
    "\n",
    "from sklearn.ensemble import RandomForestClassifier\n",
    "\n",
    "forest_clf = RandomForestClassifier(random_state=42)\n",
    "print(forest_clf)\n"
   ]
  },
  {
   "cell_type": "code",
   "execution_count": null,
   "id": "ae01f80d",
   "metadata": {},
   "outputs": [],
   "source": []
  }
 ],
 "metadata": {
  "kernelspec": {
   "display_name": "ai_ml_env",
   "language": "python",
   "name": "python3"
  },
  "language_info": {
   "codemirror_mode": {
    "name": "ipython",
    "version": 3
   },
   "file_extension": ".py",
   "mimetype": "text/x-python",
   "name": "python",
   "nbconvert_exporter": "python",
   "pygments_lexer": "ipython3",
   "version": "3.12.3"
  }
 },
 "nbformat": 4,
 "nbformat_minor": 5
}
