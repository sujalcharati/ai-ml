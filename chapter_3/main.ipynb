{
 "cells": [
  {
   "cell_type": "code",
   "execution_count": 7,
   "id": "9ced7d41",
   "metadata": {},
   "outputs": [
    {
     "name": "stdout",
     "output_type": "stream",
     "text": [
      "[[0 0 0 ... 0 0 0]\n",
      " [0 0 0 ... 0 0 0]\n",
      " [0 0 0 ... 0 0 0]\n",
      " ...\n",
      " [0 0 0 ... 0 0 0]\n",
      " [0 0 0 ... 0 0 0]\n",
      " [0 0 0 ... 0 0 0]]\n",
      "['5' '0' '4' ... '4' '5' '6']\n"
     ]
    },
    {
     "data": {
      "text/plain": [
       "(70000,)"
      ]
     },
     "execution_count": 7,
     "metadata": {},
     "output_type": "execute_result"
    }
   ],
   "source": [
    "from sklearn.datasets import fetch_openml\n",
    "import pandas as pd\n",
    "mnist = fetch_openml('mnist_784',as_frame=False)\n",
    "\n",
    "x,y = mnist.data , mnist.target\n",
    "print(x)\n",
    "print(y)\n",
    "\n",
    "x.shape\n",
    "y.shape"
   ]
  },
  {
   "cell_type": "code",
   "execution_count": 16,
   "id": "9ab7efc5",
   "metadata": {},
   "outputs": [
    {
     "data": {
      "image/png": "[encoded data removed]",
      "text/plain": [
       "<Figure size 640x480 with 1 Axes>"
      ]
     },
     "metadata": {},
     "output_type": "display_data"
    },
    {
     "name": "stdout",
     "output_type": "stream",
     "text": [
      "5\n"
     ]
    }
   ],
   "source": [
    "import matplotlib.pyplot as plt\n",
    "\n",
    "def plot_digit(image_data):\n",
    "    image = image_data.reshape(28,28) # from 1d array to 2d array ..\n",
    "    plt.imshow(image, cmap='binary') # using color with 2 only white and black \n",
    "    plt.axis(\"off\") # showing grid axis \n",
    "some_digit = x[0]\n",
    "plot_digit(some_digit)\n",
    "plt.show()\n",
    "print(y[0])\n"
   ]
  },
  {
   "cell_type": "code",
   "execution_count": 21,
   "id": "adfb666a",
   "metadata": {},
   "outputs": [
    {
     "name": "stdout",
     "output_type": "stream",
     "text": [
      "[[0 0 0 ... 0 0 0]\n",
      " [0 0 0 ... 0 0 0]\n",
      " [0 0 0 ... 0 0 0]\n",
      " ...\n",
      " [0 0 0 ... 0 0 0]\n",
      " [0 0 0 ... 0 0 0]\n",
      " [0 0 0 ... 0 0 0]]\n",
      "[[0 0 0 ... 0 0 0]\n",
      " [0 0 0 ... 0 0 0]\n",
      " [0 0 0 ... 0 0 0]\n",
      " ...\n",
      " [0 0 0 ... 0 0 0]\n",
      " [0 0 0 ... 0 0 0]\n",
      " [0 0 0 ... 0 0 0]]\n",
      "int64 0 255\n"
     ]
    }
   ],
   "source": [
    "x_train,x_test= x[:60000],x[60000:]\n",
    "print(x_train)\n",
    "print(x_test)\n",
    "print(x.dtype, x.min(), x.max())\n"
   ]
  },
  {
   "cell_type": "code",
   "execution_count": null,
   "id": "58f48d6c",
   "metadata": {},
   "outputs": [
    {
     "name": "stdout",
     "output_type": "stream",
     "text": [
      "[ True False False ...  True False False]\n",
      "0\n"
     ]
    }
   ],
   "source": [
    "y_train, y_test = y[:60000], y[60000:]\n",
    "ytrain_5 = (y_train == '5')\n",
    "ytest_5 = (y_test == '5')\n",
    "print(ytrain_5)"
   ]
  },
  {
   "cell_type": "code",
   "execution_count": null,
   "id": "9b221763",
   "metadata": {},
   "outputs": [
    {
     "data": {
      "text/plain": [
       "array([ True])"
      ]
     },
     "execution_count": 27,
     "metadata": {},
     "output_type": "execute_result"
    }
   ],
   "source": [
    "from sklearn.linear_model import SGDClassifier\n",
    "\n",
    "sgd_clf = SGDClassifier(random_state=42)\n",
    "sgd_clf.fit(x_train,ytrain_5)\n",
    "sgd_clf.predict([some_digit])\n",
    "\n"
   ]
  },
  {
   "cell_type": "code",
   "execution_count": 28,
   "id": "6d182ba7",
   "metadata": {},
   "outputs": [
    {
     "data": {
      "text/plain": [
       "array([0.95035, 0.96035, 0.9604 ])"
      ]
     },
     "execution_count": 28,
     "metadata": {},
     "output_type": "execute_result"
    }
   ],
   "source": [
    "# measuring accuracy using cross-validation\n",
    "\n",
    "from sklearn.model_selection import cross_val_score\n",
    "\n",
    "cross_val_score(sgd_clf,x_train,ytrain_5,cv=3,scoring=\"accuracy\")"
   ]
  },
  {
   "cell_type": "code",
   "execution_count": 30,
   "id": "4d2067ef",
   "metadata": {},
   "outputs": [
    {
     "name": "stdout",
     "output_type": "stream",
     "text": [
      "False\n"
     ]
    },
    {
     "data": {
      "text/plain": [
       "array([0.90965, 0.90965, 0.90965])"
      ]
     },
     "execution_count": 30,
     "metadata": {},
     "output_type": "execute_result"
    }
   ],
   "source": [
    "# using dummy classifier for accuracy\n",
    "\n",
    "from sklearn.dummy import DummyClassifier\n",
    "\n",
    "dummy_clf = DummyClassifier()\n",
    "dummy_clf.fit(x_train,ytrain_5)\n",
    "print(any(dummy_clf.predict(x_train)))\n",
    "\n",
    "cross_val_score(dummy_clf,x_train,ytrain_5,cv=3,scoring=\"accuracy\")"
   ]
  },
  {
   "cell_type": "code",
   "execution_count": null,
   "id": "664c8d90",
   "metadata": {},
   "outputs": [],
   "source": [
    "# This demonstrates why accuracy is generally not the preferred performance measure\n",
    "#for classifiers, especially when you are dealing with skewed datasets (i.e., when some classes are more frequent than others..\n",
    "#A much better way to evaluate the performance of a classifier is to look at the confusion matrix (CM)"
   ]
  },
  {
   "cell_type": "code",
   "execution_count": null,
   "id": "4eef6829",
   "metadata": {},
   "outputs": [],
   "source": [
    "# confusion matrix\n",
    "\n"
   ]
  }
 ],
 "metadata": {
  "kernelspec": {
   "display_name": "ai_ml_env",
   "language": "python",
   "name": "python3"
  },
  "language_info": {
   "codemirror_mode": {
    "name": "ipython",
    "version": 3
   },
   "file_extension": ".py",
   "mimetype": "text/x-python",
   "name": "python",
   "nbconvert_exporter": "python",
   "pygments_lexer": "ipython3",
   "version": "3.12.3"
  }
 },
 "nbformat": 4,
 "nbformat_minor": 5
}
