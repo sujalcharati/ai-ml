{
 "cells": [
  {
   "cell_type": "code",
   "execution_count": null,
   "id": "ea0dc336",
   "metadata": {},
   "outputs": [],
   "source": [
    "# basics reference to matplotlib\n",
    "# small example\n",
    "\n",
    "import matplotlib.pyplot as plt\n",
    "\n",
    "import numpy as np\n",
    "\n",
    "fig,ax = plt.subplots()\n",
    "ax.plot([1,2,3,4],[2,3,5,4])\n",
    "plt.show()\n"
   ]
  },
  {
   "cell_type": "code",
   "execution_count": null,
   "id": "ddb44239",
   "metadata": {},
   "outputs": [],
   "source": [
    "# Figure \n",
    "\n",
    "fig = plt.figure()\n",
    "plt.show() #<Figure size 640x480 with 0 Axes>\n",
    "\n",
    "fig, ax = plt.subplots()   # 1 axes where it represents one area \n",
    "plt.show()\n",
    "\n",
    "\n",
    "fig, axes = plt.subplots(2,2)  # 2x2 grid of subplots => 4 axes\n",
    "plt.show()\n",
    "\n",
    "# a figure with one Axes on the left, and two on the right:\n",
    "fig, axs = plt.subplot_mosaic([['left', 'right_top'],\n",
    "                               ['left', 'right_bottom']])"
   ]
  },
  {
   "cell_type": "code",
   "execution_count": 1,
   "id": "de2a76b5",
   "metadata": {},
   "outputs": [
    {
     "ename": "NameError",
     "evalue": "name 'np' is not defined",
     "output_type": "error",
     "traceback": [
      "\u001b[31m---------------------------------------------------------------------------\u001b[39m",
      "\u001b[31mNameError\u001b[39m                                 Traceback (most recent call last)",
      "\u001b[36mCell\u001b[39m\u001b[36m \u001b[39m\u001b[32mIn[1]\u001b[39m\u001b[32m, line 4\u001b[39m\n\u001b[32m      1\u001b[39m \u001b[38;5;66;03m# styling artist \u001b[39;00m\n\u001b[32m      2\u001b[39m \n\u001b[32m      3\u001b[39m \u001b[38;5;66;03m# color \u001b[39;00m\n\u001b[32m----> \u001b[39m\u001b[32m4\u001b[39m data1 = \u001b[43mnp\u001b[49m.random.rand(\u001b[32m50\u001b[39m)\n\u001b[32m      5\u001b[39m data2 = np.random.rand(\u001b[32m50\u001b[39m)\n\u001b[32m      7\u001b[39m fig , ax = plt.subplots(figsize=(\u001b[32m5\u001b[39m,\u001b[32m4.3\u001b[39m))\n",
      "\u001b[31mNameError\u001b[39m: name 'np' is not defined"
     ]
    }
   ],
   "source": [
    "# styling artist \n",
    "\n",
    "# color \n",
    "data1 = np.random.rand(50)\n",
    "data2 = np.random.rand(50)\n",
    "\n",
    "fig , ax = plt.subplots(figsize=(5,4.3))\n",
    "ax.scatter(data1, data2, s=50, facecolor='C0', edgecolor='k')\n"
   ]
  }
 ],
 "metadata": {
  "kernelspec": {
   "display_name": "ai_ml_env",
   "language": "python",
   "name": "python3"
  },
  "language_info": {
   "codemirror_mode": {
    "name": "ipython",
    "version": 3
   },
   "file_extension": ".py",
   "mimetype": "text/x-python",
   "name": "python",
   "nbconvert_exporter": "python",
   "pygments_lexer": "ipython3",
   "version": "3.12.3"
  }
 },
 "nbformat": 4,
 "nbformat_minor": 5
}
