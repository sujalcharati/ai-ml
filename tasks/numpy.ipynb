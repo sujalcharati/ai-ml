{
 "cells": [
  {
   "cell_type": "code",
   "execution_count": 2,
   "id": "d4add255",
   "metadata": {},
   "outputs": [
    {
     "name": "stdout",
     "output_type": "stream",
     "text": [
      "[[10 20 30]\n",
      " [20 40 60]\n",
      " [30 60 90]]\n"
     ]
    }
   ],
   "source": [
    "# Q1: You are given the following arrays:\n",
    "import numpy as np\n",
    "a = np.array([[1], [2], [3]])\n",
    "b = np.array([10, 20, 30])\n",
    "\n",
    "c = (a*b)\n",
    "print(c)\n",
    "# Task: Multiply 'a' and 'b' using broadcasting.\n",
    "# What is the resulting array?\n"
   ]
  },
  {
   "cell_type": "code",
   "execution_count": 5,
   "id": "abc63e00",
   "metadata": {},
   "outputs": [
    {
     "name": "stdout",
     "output_type": "stream",
     "text": [
      "[-1 -1  7 -1  9 -1]\n"
     ]
    }
   ],
   "source": [
    "# Q2: Given an array of integers:\n",
    "arr = np.array([5, 2, 7, 1, 9, 3])\n",
    "\n",
    "\n",
    "mask = arr <= 5 \n",
    "c = arr[mask]=-1\n",
    "print(arr)\n",
    "\n",
    "# Task: Replace all elements less than 5 with -1.\n",
    "# Expected output: array([-1, -1, 7, -1, 9, -1])\n"
   ]
  },
  {
   "cell_type": "code",
   "execution_count": 12,
   "id": "d22bfdef",
   "metadata": {},
   "outputs": [
    {
     "name": "stdout",
     "output_type": "stream",
     "text": [
      "[[ 0  1  2  3]\n",
      " [ 4  5  6  7]\n",
      " [ 8  9 10 11]]\n",
      "[12 15 18 21]\n"
     ]
    }
   ],
   "source": [
    "# Q3: You have a 1D array of 12 elements:\n",
    "arr = np.arange(12)\n",
    "\n",
    "c = arr.reshape(3, 4)\n",
    "print(c)\n",
    "\n",
    "d = c.sum(axis=0)\n",
    "print(d)\n",
    "# Task:\n",
    "#   - Reshape it into a 3x4 matrix.\n",
    "#   - Then find the sum along columns (axis=0).\n"
   ]
  },
  {
   "cell_type": "code",
   "execution_count": 22,
   "id": "b053e71b",
   "metadata": {},
   "outputs": [
    {
     "name": "stdout",
     "output_type": "stream",
     "text": [
      "[[1 2 3]\n",
      " [4 5 6]]\n",
      "[[1 4]\n",
      " [2 5]\n",
      " [3 6]]\n"
     ]
    }
   ],
   "source": [
    "# Q4: You are given two 1D arrays:\n",
    "a = np.array([1, 2, 3])\n",
    "b = np.array([4, 5, 6])\n",
    "\n",
    "\n",
    "c = np.vstack((a,b))\n",
    "print(c)\n",
    "\n",
    "\n",
    "# Horizontal stacking (requires reshaping to (3,1) for both arrays)\n",
    "h = np.hstack((a.reshape(-1, 1), b.reshape(-1, 1)))\n",
    "print(h)\n",
    "# Task:\n",
    "# Stack them into a 2D array of shape (2, 3) using:\n",
    "# - Vertical stacking\n",
    "# - Horizontal stacking (requires reshaping)\n"
   ]
  }
 ],
 "metadata": {
  "kernelspec": {
   "display_name": "ai_ml_env",
   "language": "python",
   "name": "python3"
  },
  "language_info": {
   "codemirror_mode": {
    "name": "ipython",
    "version": 3
   },
   "file_extension": ".py",
   "mimetype": "text/x-python",
   "name": "python",
   "nbconvert_exporter": "python",
   "pygments_lexer": "ipython3",
   "version": "3.12.3"
  }
 },
 "nbformat": 4,
 "nbformat_minor": 5
}
