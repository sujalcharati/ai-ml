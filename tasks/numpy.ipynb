{
 "cells": [
  {
   "cell_type": "code",
   "execution_count": 2,
   "id": "d4add255",
   "metadata": {},
   "outputs": [
    {
     "name": "stdout",
     "output_type": "stream",
     "text": [
      "[[10 20 30]\n",
      " [20 40 60]\n",
      " [30 60 90]]\n"
     ]
    }
   ],
   "source": [
    "# Q1: You are given the following arrays:\n",
    "import numpy as np\n",
    "a = np.array([[1], [2], [3]])\n",
    "b = np.array([10, 20, 30])\n",
    "\n",
    "c = (a*b)\n",
    "print(c)\n",
    "# Task: Multiply 'a' and 'b' using broadcasting.\n",
    "# What is the resulting array?\n"
   ]
  },
  {
   "cell_type": "code",
   "execution_count": 5,
   "id": "abc63e00",
   "metadata": {},
   "outputs": [
    {
     "name": "stdout",
     "output_type": "stream",
     "text": [
      "[-1 -1  7 -1  9 -1]\n"
     ]
    }
   ],
   "source": [
    "# Q2: Given an array of integers:\n",
    "arr = np.array([5, 2, 7, 1, 9, 3])\n",
    "\n",
    "\n",
    "mask = arr <= 5 \n",
    "c = arr[mask]=-1\n",
    "print(arr)\n",
    "\n",
    "# Task: Replace all elements less than 5 with -1.\n",
    "# Expected output: array([-1, -1, 7, -1, 9, -1])\n"
   ]
  },
  {
   "cell_type": "code",
   "execution_count": 12,
   "id": "d22bfdef",
   "metadata": {},
   "outputs": [
    {
     "name": "stdout",
     "output_type": "stream",
     "text": [
      "[[ 0  1  2  3]\n",
      " [ 4  5  6  7]\n",
      " [ 8  9 10 11]]\n",
      "[12 15 18 21]\n"
     ]
    }
   ],
   "source": [
    "# Q3: You have a 1D array of 12 elements:\n",
    "arr = np.arange(12)\n",
    "\n",
    "c = arr.reshape(3, 4)\n",
    "print(c)\n",
    "\n",
    "d = c.sum(axis=0)\n",
    "print(d)\n",
    "# Task:\n",
    "#   - Reshape it into a 3x4 matrix.\n",
    "#   - Then find the sum along columns (axis=0).\n"
   ]
  },
  {
   "cell_type": "code",
   "execution_count": 22,
   "id": "b053e71b",
   "metadata": {},
   "outputs": [
    {
     "name": "stdout",
     "output_type": "stream",
     "text": [
      "[[1 2 3]\n",
      " [4 5 6]]\n",
      "[[1 4]\n",
      " [2 5]\n",
      " [3 6]]\n"
     ]
    }
   ],
   "source": [
    "# Q4: You are given two 1D arrays:\n",
    "a = np.array([1, 2, 3])\n",
    "b = np.array([4, 5, 6])\n",
    "\n",
    "\n",
    "c = np.vstack((a,b))\n",
    "print(c)\n",
    "\n",
    "\n",
    "# Horizontal stacking (requires reshaping to (3,1) for both arrays)\n",
    "h = np.hstack((a.reshape(-1, 1), b.reshape(-1, 1)))\n",
    "print(h)\n",
    "# Task:\n",
    "# Stack them into a 2D array of shape (2, 3) using:\n",
    "# - Vertical stacking\n",
    "# - Horizontal stacking (requires reshaping)\n"
   ]
  },
  {
   "cell_type": "code",
   "execution_count": 31,
   "id": "595ff2db",
   "metadata": {},
   "outputs": [
    {
     "name": "stdout",
     "output_type": "stream",
     "text": [
      "(3, 5)\n",
      "[84.66666667 88.         84.66666667 86.66666667 86.66666667]\n",
      "[87.4 87.  84. ]\n",
      "95\n",
      "4.427188724235731\n",
      "[[79 85 88 92 93]\n",
      " [76 85 89 90 95]\n",
      " [78 80 85 87 90]]\n"
     ]
    }
   ],
   "source": [
    "import numpy as np\n",
    "\n",
    "# Rows: Subjects (Math, Science, English)\n",
    "# Columns: Students\n",
    "scores = np.array([\n",
    "    [88, 92, 79, 93, 85],   # Math\n",
    "    [76, 85, 90, 89, 95],   # Science\n",
    "    [90, 87, 85, 78, 80]    # English\n",
    "])\n",
    "\n",
    "# shape \n",
    "a = scores.shape\n",
    "print(a)\n",
    "\n",
    "# student average \n",
    "\n",
    "b = np.mean(scores, axis=0)\n",
    "print(b)\n",
    "\n",
    "# subject average \n",
    "\n",
    "c = np.mean(scores, axis=1)\n",
    "print(c)\n",
    "\n",
    "# find top performer\n",
    "\n",
    "d = np.max(scores)\n",
    "print(d)\n",
    "\n",
    "# Standard Deviation of English Scores\n",
    "std_english = np.std(scores[2])\n",
    "print(std_english)\n",
    "\n",
    "#Sorting Challenge\n",
    "# sort the scores of each subject in ascending order\n",
    "\n",
    "sorted_scores = np.sort(scores, axis=1)\n",
    "print(sorted_scores)\n"
   ]
  }
 ],
 "metadata": {
  "kernelspec": {
   "display_name": "ai_ml_env",
   "language": "python",
   "name": "python3"
  },
  "language_info": {
   "codemirror_mode": {
    "name": "ipython",
    "version": 3
   },
   "file_extension": ".py",
   "mimetype": "text/x-python",
   "name": "python",
   "nbconvert_exporter": "python",
   "pygments_lexer": "ipython3",
   "version": "3.12.3"
  }
 },
 "nbformat": 4,
 "nbformat_minor": 5
}
