{
 "cells": [
  {
   "cell_type": "code",
   "execution_count": 5,
   "id": "7df9f2f1",
   "metadata": {},
   "outputs": [
    {
     "name": "stdout",
     "output_type": "stream",
     "text": [
      "[1 2 3]\n"
     ]
    }
   ],
   "source": [
    "# 1d array\n",
    "import numpy as np\n",
    "a= np.array([1,2,3], dtype=\"int8\")\n",
    "print(a)"
   ]
  },
  {
   "cell_type": "code",
   "execution_count": null,
   "id": "1c1fe5b3",
   "metadata": {},
   "outputs": [],
   "source": [
    "# 3d-dimension\n",
    "b=np.array([[[1,2,3],[2,3,5],[2,3,5]]])\n",
    "print(b)"
   ]
  },
  {
   "cell_type": "code",
   "execution_count": null,
   "id": "25e8d04e",
   "metadata": {},
   "outputs": [],
   "source": [
    "# get dimensions\n",
    "a.ndim"
   ]
  },
  {
   "cell_type": "code",
   "execution_count": null,
   "id": "9279e505",
   "metadata": {},
   "outputs": [],
   "source": [
    "# shape of the array rows , columns of dimensions..\n",
    "# a.shape\n",
    "b.shape"
   ]
  },
  {
   "cell_type": "code",
   "execution_count": null,
   "id": "86f93ef0",
   "metadata": {},
   "outputs": [],
   "source": [
    "# data type it takes int64 as default\n",
    "a.dtype\n",
    "b.dtype"
   ]
  },
  {
   "cell_type": "code",
   "execution_count": null,
   "id": "9f9dd466",
   "metadata": {},
   "outputs": [],
   "source": [
    "# get size of the bytes from itemsize\n",
    "a.itemsize\n",
    "b.itemsize"
   ]
  },
  {
   "cell_type": "markdown",
   "id": "50ac6308",
   "metadata": {},
   "source": [
    "# accessing / changing the elements, rows ,columns etc.."
   ]
  },
  {
   "cell_type": "code",
   "execution_count": 17,
   "id": "45472db1",
   "metadata": {},
   "outputs": [
    {
     "name": "stdout",
     "output_type": "stream",
     "text": [
      "[[[  1   2   3   4   5   6   7]\n",
      "  [ 12  34  56 657  34  34  54]\n",
      "  [  3   4   5  67   7   5   6]]]\n"
     ]
    }
   ],
   "source": [
    "a = np.array([[[1,2,3,4,5,6,7],[12,34,56,657,34,34,54],[3,4,5,67,7,5,6]]])\n",
    "print(a)"
   ]
  },
  {
   "cell_type": "code",
   "execution_count": 18,
   "id": "41a24bb1",
   "metadata": {},
   "outputs": [
    {
     "name": "stdout",
     "output_type": "stream",
     "text": [
      "657\n",
      "[[[  1   2   3   4   5   6   7]\n",
      "  [ 12  34  56 657  34  34  54]\n",
      "  [  3   4   5  67   7   5   6]]]\n"
     ]
    }
   ],
   "source": [
    "# get a specific element like [r,c] and all starts from index 0\n",
    "element = a[0, 1, 3]\n",
    "print(element)\n",
    "print(a)\n"
   ]
  },
  {
   "cell_type": "code",
   "execution_count": 19,
   "id": "6574f670",
   "metadata": {},
   "outputs": [
    {
     "name": "stdout",
     "output_type": "stream",
     "text": [
      "[ 12  34  56 657  34  34  54]\n",
      "[ 6 34  5]\n"
     ]
    }
   ],
   "source": [
    "# getting a specific row and column\n",
    "selected=a[0,1,:]\n",
    "print(selected)\n",
    "\n",
    "sel = a[0,:,5]\n",
    "print(sel)\n"
   ]
  },
  {
   "cell_type": "code",
   "execution_count": 20,
   "id": "aca6fa24",
   "metadata": {},
   "outputs": [
    {
     "name": "stdout",
     "output_type": "stream",
     "text": [
      "[[[  2   2   3   4   5   6   7]\n",
      "  [ 12  34  56 657  34  34  54]\n",
      "  [  3   4   5  67   7   5   6]]]\n"
     ]
    }
   ],
   "source": [
    "# changing elements \n",
    "a[0,0,0] = 2\n",
    "print(a)\n"
   ]
  },
  {
   "cell_type": "code",
   "execution_count": 21,
   "id": "efd67d8a",
   "metadata": {},
   "outputs": [
    {
     "name": "stdout",
     "output_type": "stream",
     "text": [
      "[[[  2   2   3   4   5   6   2]\n",
      "  [ 12  34  56 657  34  34   2]\n",
      "  [  3   4   5  67   7   5   2]]]\n",
      "[[[  2   2   3   4   5   6   2]\n",
      "  [ 12  34  56 657  34  34   3]\n",
      "  [  3   4   5  67   7   5   4]]]\n"
     ]
    }
   ],
   "source": [
    "# changing elements of a whole \n",
    "\n",
    "a[0,:,6]=2\n",
    "print(a)\n",
    "\n",
    "\n",
    "a[0,:,6]=[2,3,4]\n",
    "print(a)"
   ]
  },
  {
   "cell_type": "markdown",
   "id": "4505d9b4",
   "metadata": {},
   "source": [
    "# intializing different types of array\n"
   ]
  },
  {
   "cell_type": "code",
   "execution_count": 25,
   "id": "c33b2d20",
   "metadata": {},
   "outputs": [
    {
     "name": "stdout",
     "output_type": "stream",
     "text": [
      "[[[0. 0. 0.]\n",
      "  [0. 0. 0.]\n",
      "  [0. 0. 0.]]]\n"
     ]
    }
   ],
   "source": [
    "# zero matrix \n",
    "\n",
    "# a =np.zeros((2,3))\n",
    "a = np.zeros(((1,3,3)))\n",
    "print(a)"
   ]
  },
  {
   "cell_type": "code",
   "execution_count": 26,
   "id": "d5dc473b",
   "metadata": {},
   "outputs": [
    {
     "name": "stdout",
     "output_type": "stream",
     "text": [
      "[[1. 1. 1.]\n",
      " [1. 1. 1.]]\n"
     ]
    }
   ],
   "source": [
    "# ones matrix \n",
    "\n",
    "a = np.ones((2,3))\n",
    "print(a)"
   ]
  },
  {
   "cell_type": "code",
   "execution_count": null,
   "id": "2898681a",
   "metadata": {},
   "outputs": [
    {
     "name": "stdout",
     "output_type": "stream",
     "text": [
      "[[56 56 56 56]\n",
      " [56 56 56 56]]\n"
     ]
    }
   ],
   "source": [
    "#  any other number like two parameter np.full(shape,value)and full_like for (a , value)\n",
    "a =np.full((2,4),56)\n",
    "print(a)"
   ]
  },
  {
   "cell_type": "code",
   "execution_count": null,
   "id": "22fb9068",
   "metadata": {},
   "outputs": [
    {
     "name": "stdout",
     "output_type": "stream",
     "text": [
      "[[0.47598572 0.37577065 0.13380212]\n",
      " [0.20368677 0.96793961 0.84306072]\n",
      " [0.45866654 0.98956604 0.43447183]\n",
      " [0.02374314 0.64446198 0.71527616]]\n"
     ]
    }
   ],
   "source": [
    "# random decimal value in the matrix \n",
    "a = np.random.rand(4,3)\n",
    "print(a)"
   ]
  },
  {
   "cell_type": "code",
   "execution_count": 32,
   "id": "73097bf5",
   "metadata": {},
   "outputs": [
    {
     "name": "stdout",
     "output_type": "stream",
     "text": [
      "[[4 3 4 4]\n",
      " [3 3 4 3]\n",
      " [4 3 4 3]]\n"
     ]
    }
   ],
   "source": [
    "# random integer value \n",
    "a = np.random.randint(3,5,(3,4))\n",
    "print(a)"
   ]
  },
  {
   "cell_type": "code",
   "execution_count": 33,
   "id": "1a98f55e",
   "metadata": {},
   "outputs": [
    {
     "name": "stdout",
     "output_type": "stream",
     "text": [
      "[[1. 0. 0. 0. 0. 0.]\n",
      " [0. 1. 0. 0. 0. 0.]\n",
      " [0. 0. 1. 0. 0. 0.]\n",
      " [0. 0. 0. 1. 0. 0.]\n",
      " [0. 0. 0. 0. 1. 0.]\n",
      " [0. 0. 0. 0. 0. 1.]]\n"
     ]
    }
   ],
   "source": [
    "# indentity matrix \n",
    "a = np.identity(6)\n",
    "print(a)"
   ]
  },
  {
   "cell_type": "code",
   "execution_count": 38,
   "id": "db623473",
   "metadata": {},
   "outputs": [
    {
     "name": "stdout",
     "output_type": "stream",
     "text": [
      "[[1 3 5]\n",
      " [1 3 5]\n",
      " [1 3 5]\n",
      " [1 3 5]]\n"
     ]
    }
   ],
   "source": [
    "# repeat an array \n",
    "a = np.array([[1,3,5]])\n",
    "r1 = np.repeat(a,4,0)\n",
    "print(r1)"
   ]
  },
  {
   "cell_type": "code",
   "execution_count": 43,
   "id": "75465070",
   "metadata": {},
   "outputs": [
    {
     "name": "stdout",
     "output_type": "stream",
     "text": [
      "[[1. 1. 1. 1. 1.]\n",
      " [1. 1. 1. 1. 1.]\n",
      " [1. 1. 1. 1. 1.]\n",
      " [1. 1. 1. 1. 1.]\n",
      " [1. 1. 1. 1. 1.]]\n",
      "[[0. 0. 0.]\n",
      " [0. 9. 0.]\n",
      " [0. 0. 0.]]\n",
      "[[1. 1. 1. 1. 1.]\n",
      " [1. 0. 0. 0. 1.]\n",
      " [1. 0. 9. 0. 1.]\n",
      " [1. 0. 0. 0. 1.]\n",
      " [1. 1. 1. 1. 1.]]\n"
     ]
    }
   ],
   "source": [
    "#assignemt -1\n",
    "a = np.ones((5,5))\n",
    "print(a)\n",
    "\n",
    "z = np.zeros((3,3))\n",
    "z[1,1]=9\n",
    "print(z)\n",
    "\n",
    "a[1:4,1:4]=z\n",
    "print(a)"
   ]
  },
  {
   "cell_type": "markdown",
   "id": "7e63b3bd",
   "metadata": {},
   "source": [
    "## careful during copying the arrays !"
   ]
  },
  {
   "cell_type": "code",
   "execution_count": null,
   "id": "21c6cb48",
   "metadata": {},
   "outputs": [
    {
     "name": "stdout",
     "output_type": "stream",
     "text": [
      "[34  3  5]\n",
      "[2 3 5]\n"
     ]
    }
   ],
   "source": [
    "# a = np.array([2,3,5])\n",
    "# print(a)\n",
    "# b=a\n",
    "# print(b)\n",
    "# b[0]=34\n",
    "# print(b)\n",
    "# print(a) #here is the issue where anything done on b does reflect on a as well thats not copy is...\n",
    "# to avoid the above thing you can just do the .copy()\n",
    "\n",
    "a = np.array([2,3,5])\n",
    "b= a.copy()\n",
    "b[0]=34\n",
    "print(b)\n",
    "print(a) # here you can check that the result has not affected on a due to change in b.."
   ]
  },
  {
   "cell_type": "markdown",
   "id": "2ae19690",
   "metadata": {},
   "source": [
    "# mathematics\n"
   ]
  },
  {
   "cell_type": "code",
   "execution_count": null,
   "id": "6e26a722",
   "metadata": {},
   "outputs": [
    {
     "name": "stdout",
     "output_type": "stream",
     "text": [
      "[3 4 5 6]\n",
      "[1 2 3 4]\n",
      "[2 4 6 8]\n",
      "[1. 2. 3. 4.]\n"
     ]
    }
   ],
   "source": [
    "# arithmetic operation in np\n",
    "a = np.array([1,2,3,4])\n",
    "\n",
    "a+=2\n",
    "print(a)\n",
    "\n",
    "a-=2\n",
    "print(a)\n",
    "\n",
    "a*=2\n",
    "print(a)\n",
    "\n",
    "a=a/2\n",
    "print(a)\n",
    "\n"
   ]
  },
  {
   "cell_type": "code",
   "execution_count": 10,
   "id": "e9a9f51d",
   "metadata": {},
   "outputs": [
    {
     "name": "stdout",
     "output_type": "stream",
     "text": [
      "[2. 4. 6. 8.]\n",
      "[ 1.  4.  9. 16.]\n"
     ]
    }
   ],
   "source": [
    "# operation as the array\n",
    "\n",
    "c = np.array([1,2,3,4])\n",
    "print(a+c)\n",
    "\n",
    "\n",
    "a =a**2\n",
    "print(a)"
   ]
  },
  {
   "cell_type": "code",
   "execution_count": 11,
   "id": "ddff9df6",
   "metadata": {},
   "outputs": [
    {
     "name": "stdout",
     "output_type": "stream",
     "text": [
      "[ 0.54030231 -0.65364362 -0.91113026 -0.95765948]\n"
     ]
    }
   ],
   "source": [
    "# trignometric function\n",
    "\n",
    "a = np.cos(a)\n",
    "print(a)\n"
   ]
  },
  {
   "cell_type": "code",
   "execution_count": 2,
   "id": "10f703bb",
   "metadata": {},
   "outputs": [
    {
     "name": "stdout",
     "output_type": "stream",
     "text": [
      "[[1 2 3]\n",
      " [4 5 6]]\n"
     ]
    }
   ],
   "source": [
    "import numpy as np\n",
    "b = np.array([[1, 2], [3, 4], [5, 6]])\n",
    "reshaped = b.reshape(2, 3)\n",
    "print(reshaped)\n"
   ]
  },
  {
   "cell_type": "code",
   "execution_count": 6,
   "id": "50a5ba2a",
   "metadata": {},
   "outputs": [
    {
     "name": "stdout",
     "output_type": "stream",
     "text": [
      "[[2 3]\n",
      " [4 5]\n",
      " [6 7]]\n",
      "[[11 12 13]\n",
      " [14 15 16]]\n",
      "[[1. 2. 3.]\n",
      " [1. 2. 3.]\n",
      " [1. 2. 3.]]\n"
     ]
    }
   ],
   "source": [
    "# numpy broadcasting ...\n",
    "b = np.array([[1, 2], [3, 4], [5, 6]])\n",
    "\n",
    "# adding a scalar\n",
    "a = (1+b)\n",
    "print(a)\n",
    "\n",
    "#Adding row to 2D matrix\n",
    "\n",
    "c = np.array([[1,2,3],[4,5,6]])\n",
    "d = np.array([10,10,10])\n",
    "print(c+d)\n",
    "\n",
    "a = np.ones((3, 1))  # shape (3, 1)\n",
    "b = np.array([1, 2, 3])  # shape (3,)\n",
    "result = a * b  # what’s the result shape?\n",
    "print(result)\n"
   ]
  },
  {
   "cell_type": "code",
   "execution_count": 9,
   "id": "fae9c879",
   "metadata": {},
   "outputs": [
    {
     "name": "stdout",
     "output_type": "stream",
     "text": [
      "[[1 2]\n",
      " [3 4]]\n",
      "[1 2 3 4]\n",
      "[[1 2]\n",
      " [3 4]]\n"
     ]
    }
   ],
   "source": [
    "# stacking array\n",
    "\n",
    "a = np.array([1, 2])\n",
    "b = np.array([3, 4])\n",
    "c =  np.vstack((a, b))\n",
    "d = np.hstack((a,b))\n",
    "e = np.stack((a,b))\n",
    "print(c)\n",
    "print(d)\n",
    "print(e)\n",
    "\n"
   ]
  },
  {
   "cell_type": "code",
   "execution_count": 12,
   "id": "024014ad",
   "metadata": {},
   "outputs": [
    {
     "name": "stdout",
     "output_type": "stream",
     "text": [
      "[30 40 50]\n",
      "[20 40 50]\n",
      "['Odd' 'Even' 'Odd' 'Even' 'Odd']\n"
     ]
    }
   ],
   "source": [
    "# some indexing tricks \n",
    "\n",
    "# boolean indexing..\n",
    "\n",
    "a = np.array([10, 20, 30, 40, 50])\n",
    "mask = a > 25\n",
    "print(a[mask])  \n",
    "\n",
    "# fancy indexing\n",
    "\n",
    "a = np.array([10, 20, 30, 40, 50])\n",
    "idx = [1, 3, 4]\n",
    "print(a[idx]) \n",
    "\n",
    "\n",
    "# where() indexing\n",
    "\n",
    "a = np.array([1, 2, 3, 4, 5])\n",
    "b = np.where(a % 2 == 0, \"Even\", \"Odd\")\n",
    "print(b)\n"
   ]
  },
  {
   "cell_type": "code",
   "execution_count": null,
   "id": "36557052",
   "metadata": {},
   "outputs": [
    {
     "name": "stdout",
     "output_type": "stream",
     "text": [
      "[[11 23 35]\n",
      " [16 23 32]]\n",
      "[[[1. 1.]\n",
      "  [1. 1.]]\n",
      "\n",
      " [[0. 0.]\n",
      "  [0. 0.]]]\n",
      "[5 6 8]\n"
     ]
    }
   ],
   "source": [
    "# basics tasks \n",
    "\n",
    "# Broadcast a 1D array over a 2D array\n",
    "\n",
    "a = np.array([[1,3,5],[6,3,2]])\n",
    "b = np.array([10,20,30])\n",
    "print(a+b)\n",
    "\n",
    "# Stack arrays to form a 3D array\n",
    "\n",
    "a = np.ones((2, 2))\n",
    "b = np.zeros((2, 2))\n",
    "c = np.stack((a,b), axis=0)\n",
    "print(c)\n",
    "\n",
    "# boolean condition for  all elements > 4\n",
    "\n",
    "arr = np.array([[1, 5, 3], [6, 2, 8]])\n",
    "mask = arr > 4 \n",
    "print(arr[mask])\n"
   ]
  }
 ],
 "metadata": {
  "kernelspec": {
   "display_name": "ai_ml_env",
   "language": "python",
   "name": "python3"
  },
  "language_info": {
   "codemirror_mode": {
    "name": "ipython",
    "version": 3
   },
   "file_extension": ".py",
   "mimetype": "text/x-python",
   "name": "python",
   "nbconvert_exporter": "python",
   "pygments_lexer": "ipython3",
   "version": "3.12.3"
  }
 },
 "nbformat": 4,
 "nbformat_minor": 5
}
