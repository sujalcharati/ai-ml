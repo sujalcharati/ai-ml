{
 "cells": [
  {
   "cell_type": "code",
   "execution_count": 25,
   "id": "7df9f2f1",
   "metadata": {},
   "outputs": [
    {
     "name": "stdout",
     "output_type": "stream",
     "text": [
      "[1 2 3]\n"
     ]
    }
   ],
   "source": [
    "# 1d array\n",
    "import numpy as np\n",
    "a= np.array([1,2,3], dtype=\"int8\")\n",
    "print(a)"
   ]
  },
  {
   "cell_type": "code",
   "execution_count": 13,
   "id": "1c1fe5b3",
   "metadata": {},
   "outputs": [
    {
     "name": "stdout",
     "output_type": "stream",
     "text": [
      "[[[1 2 3]\n",
      "  [2 3 5]\n",
      "  [2 3 5]]]\n"
     ]
    }
   ],
   "source": [
    "# 3d-dimension\n",
    "b=np.array([[[1,2,3],[2,3,5],[2,3,5]]])\n",
    "print(b)"
   ]
  },
  {
   "cell_type": "code",
   "execution_count": 17,
   "id": "25e8d04e",
   "metadata": {},
   "outputs": [
    {
     "data": {
      "text/plain": [
       "1"
      ]
     },
     "execution_count": 17,
     "metadata": {},
     "output_type": "execute_result"
    }
   ],
   "source": [
    "# get dimensions\n",
    "a.ndim"
   ]
  },
  {
   "cell_type": "code",
   "execution_count": null,
   "id": "9279e505",
   "metadata": {},
   "outputs": [
    {
     "data": {
      "text/plain": [
       "(1, 3, 3)"
      ]
     },
     "execution_count": 22,
     "metadata": {},
     "output_type": "execute_result"
    }
   ],
   "source": [
    "# shape of the array rows , columns of dimensions..\n",
    "# a.shape\n",
    "b.shape"
   ]
  },
  {
   "cell_type": "code",
   "execution_count": null,
   "id": "86f93ef0",
   "metadata": {},
   "outputs": [
    {
     "data": {
      "text/plain": [
       "dtype('int64')"
      ]
     },
     "execution_count": 27,
     "metadata": {},
     "output_type": "execute_result"
    }
   ],
   "source": [
    "# data type it takes int64 as default\n",
    "a.dtype\n",
    "b.dtype"
   ]
  },
  {
   "cell_type": "code",
   "execution_count": null,
   "id": "9f9dd466",
   "metadata": {},
   "outputs": [
    {
     "data": {
      "text/plain": [
       "1"
      ]
     },
     "execution_count": 32,
     "metadata": {},
     "output_type": "execute_result"
    }
   ],
   "source": [
    "# get size of the bytes from itemsize\n",
    "a.itemsize\n",
    "b.itemsize"
   ]
  },
  {
   "cell_type": "markdown",
   "id": "50ac6308",
   "metadata": {},
   "source": [
    "# accessing / changing the elements, rows ,columns etc.."
   ]
  },
  {
   "cell_type": "code",
   "execution_count": 34,
   "id": "45472db1",
   "metadata": {},
   "outputs": [
    {
     "name": "stdout",
     "output_type": "stream",
     "text": [
      "[[[  1   2   3   4   5   6   7]\n",
      "  [ 12  34  56 657  34  34  54]\n",
      "  [  3   4   5  67   7   5   6]]]\n"
     ]
    }
   ],
   "source": [
    "a = np.array([[[1,2,3,4,5,6,7],[12,34,56,657,34,34,54],[3,4,5,67,7,5,6]]])\n",
    "print(a)"
   ]
  },
  {
   "cell_type": "code",
   "execution_count": 38,
   "id": "41a24bb1",
   "metadata": {},
   "outputs": [
    {
     "name": "stdout",
     "output_type": "stream",
     "text": [
      "657\n",
      "[[[  1   2   3   4   5   6   7]\n",
      "  [ 12  34  56 657  34  34  54]\n",
      "  [  3   4   5  67   7   5   6]]]\n"
     ]
    }
   ],
   "source": [
    "# get a specific element like [r,c] and all starts from index 0\n",
    "element = a[0, 1, 3]\n",
    "print(element)\n",
    "print(a)\n"
   ]
  },
  {
   "cell_type": "code",
   "execution_count": 43,
   "id": "6574f670",
   "metadata": {},
   "outputs": [
    {
     "name": "stdout",
     "output_type": "stream",
     "text": [
      "[ 12  34  56 657  34  34  54]\n",
      "[ 6 34  5]\n"
     ]
    }
   ],
   "source": [
    "# getting a specific row and column\n",
    "selected=a[0,1,:]\n",
    "print(selected)\n",
    "\n",
    "sel = a[0,:,5]\n",
    "print(sel)\n"
   ]
  },
  {
   "cell_type": "code",
   "execution_count": 44,
   "id": "aca6fa24",
   "metadata": {},
   "outputs": [
    {
     "name": "stdout",
     "output_type": "stream",
     "text": [
      "[[[  2   2   3   4   5   6   7]\n",
      "  [ 12  34  56 657  34  34  54]\n",
      "  [  3   4   5  67   7   5   6]]]\n"
     ]
    }
   ],
   "source": [
    "# changing elements \n",
    "a[0,0,0] = 2\n",
    "print(a)\n"
   ]
  },
  {
   "cell_type": "code",
   "execution_count": null,
   "id": "efd67d8a",
   "metadata": {},
   "outputs": [],
   "source": []
  }
 ],
 "metadata": {
  "kernelspec": {
   "display_name": "manim_env",
   "language": "python",
   "name": "python3"
  },
  "language_info": {
   "codemirror_mode": {
    "name": "ipython",
    "version": 3
   },
   "file_extension": ".py",
   "mimetype": "text/x-python",
   "name": "python",
   "nbconvert_exporter": "python",
   "pygments_lexer": "ipython3",
   "version": "3.12.3"
  }
 },
 "nbformat": 4,
 "nbformat_minor": 5
}
