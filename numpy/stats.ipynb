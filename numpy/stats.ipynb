{
 "cells": [
  {
   "cell_type": "markdown",
   "id": "401aaf65",
   "metadata": {},
   "source": [
    "# basics of statistics "
   ]
  },
  {
   "cell_type": "code",
   "execution_count": null,
   "id": "88f01452",
   "metadata": {},
   "outputs": [
    {
     "name": "stdout",
     "output_type": "stream",
     "text": [
      "[[ 1  3  4]\n",
      " [10  4  5]]\n",
      "9\n"
     ]
    }
   ],
   "source": [
    "# ptp()-----> peak to peak -----> max to min range\n",
    "\n",
    "# axis basically tells where the operation is performe like :\n",
    "# if axis is 0 then its done max-min in column wise\n",
    "# if axis is 1 then its done max-min in row wise \n",
    "# if you have negative input in array then you will get result as mathematically\n",
    "# to view result as unsigned you can use the view(dtype)\n",
    "\n",
    "import numpy as np\n",
    "\n",
    "x = np.array([[1,3,4],[10,4,5]])\n",
    "print(x)\n",
    "col =np.ptp(x, axis=0)\n",
    "row =np.ptp(x, axis=1)\n",
    "whole = np.ptp(x)\n",
    "\n",
    "print(whole)"
   ]
  },
  {
   "cell_type": "code",
   "execution_count": null,
   "id": "71a2fbbc",
   "metadata": {},
   "outputs": [
    {
     "name": "stdout",
     "output_type": "stream",
     "text": [
      "5.5\n",
      "[3.5 6.  5.5]\n",
      "[3. 7.]\n"
     ]
    }
   ],
   "source": [
    "# percentile()\n",
    "# x percentile gives y means that out of all values in dataset x percentage of values are less than y and values are just median.\n",
    "\n",
    "a = np.array([[1,5,3],[6,7,8]])\n",
    "\n",
    "perc = np.percentile(a,50)\n",
    "percc = np.percentile(a,50,axis=0)\n",
    "percr = np.percentile(a,50,axis=1)\n",
    "print(perc)\n",
    "print(percc)\n",
    "print(percr)\n"
   ]
  },
  {
   "cell_type": "code",
   "execution_count": 18,
   "id": "bf82f249",
   "metadata": {},
   "outputs": [
    {
     "name": "stdout",
     "output_type": "stream",
     "text": [
      "[[1 4 3]\n",
      " [2 3 4]\n",
      " [2 8 5]]\n",
      "3.0\n",
      "[2. 4. 4.]\n",
      "[3. 3. 5.]\n"
     ]
    }
   ],
   "source": [
    "# median()\n",
    "\n",
    "# if the # of values are odd its middle element\n",
    "# if the # of values are even its two mean of two middle element\n",
    "\n",
    "\n",
    "b = np.array([[1,4,3],[2,3,4],[2,8,5]])\n",
    "print(b)\n",
    "median = np.median(b)\n",
    "medianc = np.median(b,axis=0)\n",
    "medianr = np.median(b,axis=1)\n",
    "print(median)\n",
    "print(medianc)\n",
    "print(medianr)"
   ]
  },
  {
   "cell_type": "code",
   "execution_count": 22,
   "id": "197e0f18",
   "metadata": {},
   "outputs": [
    {
     "name": "stdout",
     "output_type": "stream",
     "text": [
      "[1 2 3 4 5 6 7]\n",
      "4.0\n"
     ]
    }
   ],
   "source": [
    "# average\n",
    "\n",
    "c = np.arange(1,8)\n",
    "print(c)\n",
    "print(np.average(c))\n",
    "\n"
   ]
  }
 ],
 "metadata": {
  "kernelspec": {
   "display_name": "ai_ml_env",
   "language": "python",
   "name": "python3"
  },
  "language_info": {
   "codemirror_mode": {
    "name": "ipython",
    "version": 3
   },
   "file_extension": ".py",
   "mimetype": "text/x-python",
   "name": "python",
   "nbconvert_exporter": "python",
   "pygments_lexer": "ipython3",
   "version": "3.12.3"
  }
 },
 "nbformat": 4,
 "nbformat_minor": 5
}
